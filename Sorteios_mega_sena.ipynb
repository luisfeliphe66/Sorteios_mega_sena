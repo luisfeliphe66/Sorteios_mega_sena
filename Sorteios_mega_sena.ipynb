{
  "nbformat": 4,
  "nbformat_minor": 0,
  "metadata": {
    "colab": {
      "provenance": [],
      "mount_file_id": "1ryv1X5nRQ6yAhU4FSHHMcJkYUecTiTLv",
      "authorship_tag": "ABX9TyP51ndBDbmA6wmka439Xzwi",
      "include_colab_link": true
    },
    "kernelspec": {
      "name": "python3",
      "display_name": "Python 3"
    },
    "language_info": {
      "name": "python"
    }
  },
  "cells": [
    {
      "cell_type": "markdown",
      "metadata": {
        "id": "view-in-github",
        "colab_type": "text"
      },
      "source": [
        "<a href=\"https://colab.research.google.com/github/luisfeliphe66/Sorteios_mega_sena/blob/main/Sorteios_mega_sena.ipynb\" target=\"_parent\"><img src=\"https://colab.research.google.com/assets/colab-badge.svg\" alt=\"Open In Colab\"/></a>"
      ]
    },
    {
      "cell_type": "markdown",
      "source": [
        "# **PROJETO MEGA SENA**"
      ],
      "metadata": {
        "id": "wnroYPmUFlmu"
      }
    },
    {
      "cell_type": "markdown",
      "source": [
        "***Spark***"
      ],
      "metadata": {
        "id": "jA_Kj3ZP5zB0"
      }
    },
    {
      "cell_type": "code",
      "source": [
        "!apt-get update -qq\n",
        "!apt-get install openjdk-8-jdk-headless -qq > /dev/null\n",
        "!wget -q https://archive.apache.org/dist/spark/spark-3.1.2/spark-3.1.2-bin-hadoop2.7.tgz\n",
        "!tar xf spark-3.1.2-bin-hadoop2.7.tgz\n",
        "!pip install -q findspark"
      ],
      "metadata": {
        "id": "R_tGu7Bd5kij"
      },
      "execution_count": 1,
      "outputs": []
    },
    {
      "cell_type": "code",
      "source": [
        "import os\n",
        "os.environ[\"JAVA_HOME\"] = \"/usr/lib/jvm/java-8-openjdk-amd64\"\n",
        "os.environ[\"SPARK_HOME\"] = \"/content/spark-3.1.2-bin-hadoop2.7\""
      ],
      "metadata": {
        "id": "AGhDj6o85nF9"
      },
      "execution_count": 2,
      "outputs": []
    },
    {
      "cell_type": "code",
      "source": [
        "!pip install -q findspark"
      ],
      "metadata": {
        "id": "AL3jX6KWvBZl"
      },
      "execution_count": 3,
      "outputs": []
    },
    {
      "cell_type": "code",
      "source": [
        "import findspark\n",
        "!findspark.init();\n"
      ],
      "metadata": {
        "id": "9sX-EX5794Yh",
        "outputId": "3f6e440c-d481-4f47-f947-e1e680919a2f",
        "colab": {
          "base_uri": "https://localhost:8080/"
        }
      },
      "execution_count": 4,
      "outputs": [
        {
          "output_type": "stream",
          "name": "stdout",
          "text": [
            "/bin/bash: -c: line 1: syntax error near unexpected token `;'\n",
            "/bin/bash: -c: line 1: `findspark.init();'\n"
          ]
        }
      ]
    },
    {
      "cell_type": "markdown",
      "source": [
        "***Acessando o Spark UI (Google Colab)***"
      ],
      "metadata": {
        "id": "yrDQx_cn-Ymq"
      }
    },
    {
      "cell_type": "code",
      "source": [
        "!from pyspark.sql import SparkSession\n",
        "\n",
        "!spark = SparkSession.builder \\\n",
        "    .master('local[*]') \\\n",
        "    .appName(\"Iniciando com Spark\") \\\n",
        "    .config('spark.ui.port', '4050') \\\n",
        "    .getOrCreate()"
      ],
      "metadata": {
        "id": "taDsCshN-Z7E",
        "outputId": "e971e54d-7df7-40e2-80d3-d1edcc28f91e",
        "colab": {
          "base_uri": "https://localhost:8080/"
        }
      },
      "execution_count": 5,
      "outputs": [
        {
          "output_type": "stream",
          "name": "stdout",
          "text": [
            "/bin/bash: line 1: from: command not found\n",
            "/bin/bash: -c: line 1: syntax error near unexpected token `('\n",
            "/bin/bash: -c: line 1: `spark = SparkSession.builder      .master('local[*]')      .appName(\"Iniciando com Spark\")      .config('spark.ui.port', '4050')      .getOrCreate()'\n"
          ]
        }
      ]
    },
    {
      "cell_type": "code",
      "source": [
        "!wget -q https://bin.equinox.io/c/4VmDzA7iaHb/ngrok-stable-linux-amd64.zip\n",
        "!unzip ngrok-stable-linux-amd64.zip\n"
      ],
      "metadata": {
        "id": "iOeU8zNg-dRm",
        "outputId": "0be71e2c-d852-4827-bdbb-1666d55c6b1a",
        "colab": {
          "base_uri": "https://localhost:8080/"
        }
      },
      "execution_count": 6,
      "outputs": [
        {
          "output_type": "stream",
          "name": "stdout",
          "text": [
            "Archive:  ngrok-stable-linux-amd64.zip\n",
            "  inflating: ngrok                   \n"
          ]
        }
      ]
    },
    {
      "cell_type": "code",
      "source": [
        "!pip install pyngrok\n",
        "!from pyngrok import ngrok"
      ],
      "metadata": {
        "id": "f9zis8r9-v0z",
        "outputId": "e5dff654-0073-4f7b-db3d-d19f1f08e7a4",
        "colab": {
          "base_uri": "https://localhost:8080/"
        }
      },
      "execution_count": 7,
      "outputs": [
        {
          "output_type": "stream",
          "name": "stdout",
          "text": [
            "Collecting pyngrok\n",
            "  Downloading pyngrok-7.1.6-py3-none-any.whl (22 kB)\n",
            "Requirement already satisfied: PyYAML>=5.1 in /usr/local/lib/python3.10/dist-packages (from pyngrok) (6.0.1)\n",
            "Installing collected packages: pyngrok\n",
            "Successfully installed pyngrok-7.1.6\n"
          ]
        }
      ]
    },
    {
      "cell_type": "code",
      "source": [
        "!ngrok authtoken \"2iU4okZxuzJLCQMOE5sUdlAK29x_2JdshyZxxF2DDWoXyoEke\""
      ],
      "metadata": {
        "id": "nlc5yinb-xPO",
        "outputId": "3c03fd83-e333-49fb-df44-6bb6e971a139",
        "colab": {
          "base_uri": "https://localhost:8080/"
        }
      },
      "execution_count": 14,
      "outputs": [
        {
          "output_type": "stream",
          "name": "stdout",
          "text": [
            "/bin/bash: line 1: ngrok: command not found\n"
          ]
        }
      ]
    },
    {
      "cell_type": "code",
      "source": [
        "!ngrok.connect('4050')"
      ],
      "metadata": {
        "id": "hvRImonE-ygB",
        "outputId": "33d5a117-8e5f-4864-acab-9ad036724266",
        "colab": {
          "base_uri": "https://localhost:8080/"
        }
      },
      "execution_count": 15,
      "outputs": [
        {
          "output_type": "stream",
          "name": "stdout",
          "text": [
            "/bin/bash: -c: line 1: syntax error near unexpected token `'4050''\n",
            "/bin/bash: -c: line 1: `ngrok.connect('4050')'\n"
          ]
        }
      ]
    },
    {
      "cell_type": "code",
      "source": [
        "!curl -s http://localhost:4040/api/tunnels"
      ],
      "metadata": {
        "id": "T2ELbUym-45_"
      },
      "execution_count": 16,
      "outputs": []
    },
    {
      "cell_type": "markdown",
      "source": [
        "***Montando drive***"
      ],
      "metadata": {
        "id": "iAdP8dCDE8v1"
      }
    },
    {
      "cell_type": "code",
      "source": [
        "from google.colab import drive\n",
        "drive.mount('/content/drive')"
      ],
      "metadata": {
        "id": "3LjGXzNt_B2x",
        "outputId": "14812191-2506-451d-d721-37dcf179bc3e",
        "colab": {
          "base_uri": "https://localhost:8080/"
        }
      },
      "execution_count": 25,
      "outputs": [
        {
          "output_type": "stream",
          "name": "stdout",
          "text": [
            "Drive already mounted at /content/drive; to attempt to forcibly remount, call drive.mount(\"/content/drive\", force_remount=True).\n"
          ]
        }
      ]
    },
    {
      "cell_type": "markdown",
      "source": [
        "***Carregando os dados***"
      ],
      "metadata": {
        "id": "xq-ktFbt_Q_g"
      }
    },
    {
      "cell_type": "code",
      "source": [
        "import zipfile\n",
        "\n",
        "# Caminho para o arquivo ZIP que você deseja extrair\n",
        "caminho_arquivo_zip = '/content/drive/MyDrive/curso-spark/MegaSena/base_mega_sena.zip'\n",
        "\n",
        "# Diretório de destino onde deseja extrair os arquivos\n",
        "diretorio_destino = '/content/drive/MyDrive/curso-spark/MegaSena/'\n",
        "\n",
        "# Extrair os arquivos do arquivo ZIP para o diretório de destino\n",
        "with zipfile.ZipFile(caminho_arquivo_zip, 'r') as zip_ref:\n",
        "    zip_ref.extractall(diretorio_destino)"
      ],
      "metadata": {
        "id": "J9HXLTbL_SZ2"
      },
      "execution_count": 26,
      "outputs": []
    },
    {
      "cell_type": "code",
      "source": [
        "import pandas as pd\n",
        "import zipfile\n",
        "import os\n",
        "import matplotlib.pyplot as plt\n",
        "\n",
        "def delete_coluna_ordem(caminho_arquivo_zip, diretorio_destino):\n",
        "    # Extrair os arquivos do arquivo ZIP para o diretório de destino\n",
        "    with zipfile.ZipFile(caminho_arquivo_zip, 'r') as zip_ref:\n",
        "        zip_ref.extractall(diretorio_destino)\n",
        "\n",
        "    # Encontrar o nome do arquivo extraído\n",
        "    nome_arquivo_extraido = None\n",
        "    for nome in zip_ref.namelist():\n",
        "        if nome.endswith('.csv'):\n",
        "            nome_arquivo_extraido = os.path.join(diretorio_destino, nome)\n",
        "            break\n",
        "\n",
        "    if nome_arquivo_extraido:\n",
        "        # Carregar o DataFrame a partir do arquivo CSV extraído\n",
        "        df = pd.read_csv(nome_arquivo_extraido)\n",
        "\n",
        "        # Deletar a coluna 'ordem' se existir\n",
        "        if 'ordem' in df.columns:\n",
        "            df = df.drop(columns=['ordem'])\n",
        "\n",
        "        # Mostrar as colunas presentes no DataFrame\n",
        "        print(\"Colunas do DataFrame:\")\n",
        "        print(df.columns)\n",
        "\n",
        "        # Contar a frequência dos números de bola\n",
        "        contagem_bolas = df['bola'].value_counts()\n",
        "\n",
        "        # Plotar o gráfico de barras com as contagens\n",
        "        contagem_bolas.sort_index().plot(kind='bar', rot=0, figsize=(12, 6))\n",
        "        plt.title('Contagem de ocorrências dos números de bola')\n",
        "        plt.xlabel('Número da bola')\n",
        "        plt.ylabel('Contagem de ocorrências')\n",
        "        plt.show()\n",
        "\n",
        "    else:\n",
        "        print('Não foi possível encontrar um arquivo CSV dentro do ZIP.')\n",
        "\n",
        "# Exemplo de uso da função\n",
        "caminho_arquivo_zip = '/content/drive/MyDrive/curso-spark/MegaSena/base_mega_sena.zip'\n",
        "diretorio_destino = '/content/drive/MyDrive/curso-spark/MegaSena/'\n",
        "\n",
        "# Chamar a função para deletar a coluna 'ordem' e mostrar a contagem de ocorrências dos números de bola\n",
        "delete_coluna_ordem(caminho_arquivo_zip, diretorio_destino)\n",
        "\n"
      ],
      "metadata": {
        "id": "v3K6L1WkCRJQ",
        "outputId": "329603df-2717-4a5f-86e7-a30ddf7073eb",
        "colab": {
          "base_uri": "https://localhost:8080/",
          "height": 600
        }
      },
      "execution_count": 27,
      "outputs": [
        {
          "output_type": "stream",
          "name": "stdout",
          "text": [
            "Colunas do DataFrame:\n",
            "Index(['concurso', 'data', 'bola'], dtype='object')\n"
          ]
        },
        {
          "output_type": "display_data",
          "data": {
            "text/plain": [
              "<Figure size 1200x600 with 1 Axes>"
            ],
            "image/png": "[encoded data removed]"
          },
          "metadata": {}
        }
      ]
    },
    {
      "cell_type": "code",
      "source": [],
      "metadata": {
        "id": "oqXX9e-n45Cb"
      },
      "execution_count": 38,
      "outputs": []
    }
  ]
}