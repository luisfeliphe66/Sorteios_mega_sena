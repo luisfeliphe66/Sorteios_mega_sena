{
  "nbformat": 4,
  "nbformat_minor": 0,
  "metadata": {
    "colab": {
      "provenance": [],
      "mount_file_id": "1ryv1X5nRQ6yAhU4FSHHMcJkYUecTiTLv",
      "authorship_tag": "ABX9TyMKE9d4jE8XwpNFo4yKR/dF",
      "include_colab_link": true
    },
    "kernelspec": {
      "name": "python3",
      "display_name": "Python 3"
    },
    "language_info": {
      "name": "python"
    }
  },
  "cells": [
    {
      "cell_type": "markdown",
      "metadata": {
        "id": "view-in-github",
        "colab_type": "text"
      },
      "source": [
        "<a href=\"https://colab.research.google.com/github/luisfeliphe66/Sorteios_mega_sena/blob/main/Sorteios_mega_sena.ipynb\" target=\"_parent\"><img src=\"https://colab.research.google.com/assets/colab-badge.svg\" alt=\"Open In Colab\"/></a>"
      ]
    },
    {
      "cell_type": "markdown",
      "source": [
        "# **PROJETO MEGA SENA**"
      ],
      "metadata": {
        "id": "wnroYPmUFlmu"
      }
    },
    {
      "cell_type": "markdown",
      "source": [
        "**Spark**"
      ],
      "metadata": {
        "id": "jA_Kj3ZP5zB0"
      }
    },
    {
      "cell_type": "code",
      "source": [
        "# instalar as dependências\n",
        "!apt-get update -qq\n",
        "!apt-get install openjdk-8-jdk-headless -qq > /dev/null\n",
        "!wget -q https://archive.apache.org/dist/spark/spark-3.1.2/spark-3.1.2-bin-hadoop2.7.tgz\n",
        "!tar xf spark-3.1.2-bin-hadoop2.7.tgz\n",
        "!pip install -q findspark"
      ],
      "metadata": {
        "id": "R_tGu7Bd5kij",
        "outputId": "b9c48b86-8e91-4a1f-d5c4-e26afde3ab9d",
        "colab": {
          "base_uri": "https://localhost:8080/"
        }
      },
      "execution_count": null,
      "outputs": [
        {
          "output_type": "stream",
          "name": "stdout",
          "text": [
            "\n",
            "gzip: stdin: unexpected end of file\n",
            "tar: Unexpected EOF in archive\n",
            "tar: Unexpected EOF in archive\n",
            "tar: Error is not recoverable: exiting now\n"
          ]
        }
      ]
    },
    {
      "cell_type": "code",
      "source": [
        "import os\n",
        "os.environ[\"JAVA_HOME\"] = \"/usr/lib/jvm/java-8-openjdk-amd64\"\n",
        "os.environ[\"SPARK_HOME\"] = \"/content/spark-3.1.2-bin-hadoop2.7\""
      ],
      "metadata": {
        "id": "AGhDj6o85nF9"
      },
      "execution_count": null,
      "outputs": []
    },
    {
      "cell_type": "code",
      "source": [
        "!pip install -q findspark"
      ],
      "metadata": {
        "id": "AL3jX6KWvBZl"
      },
      "execution_count": null,
      "outputs": []
    },
    {
      "cell_type": "code",
      "source": [
        "import findspark\n",
        "!findspark.init();\n"
      ],
      "metadata": {
        "id": "9sX-EX5794Yh",
        "outputId": "8550323b-1d2e-47ce-a1bf-8d713c83da48",
        "colab": {
          "base_uri": "https://localhost:8080/"
        }
      },
      "execution_count": null,
      "outputs": [
        {
          "output_type": "stream",
          "name": "stdout",
          "text": [
            "/bin/bash: -c: line 1: syntax error near unexpected token `;'\n",
            "/bin/bash: -c: line 1: `findspark.init();'\n"
          ]
        }
      ]
    },
    {
      "cell_type": "markdown",
      "source": [
        "Acessando o Spark UI (Google Colab)"
      ],
      "metadata": {
        "id": "yrDQx_cn-Ymq"
      }
    },
    {
      "cell_type": "code",
      "source": [
        "!from pyspark.sql import SparkSession\n",
        "\n",
        "!spark = SparkSession.builder \\\n",
        "    .master('local[*]') \\\n",
        "    .appName(\"Iniciando com Spark\") \\\n",
        "    .config('spark.ui.port', '4050') \\\n",
        "    .getOrCreate()"
      ],
      "metadata": {
        "id": "taDsCshN-Z7E",
        "outputId": "8eb33055-d163-4e92-91aa-6fd2a11bff9c",
        "colab": {
          "base_uri": "https://localhost:8080/"
        }
      },
      "execution_count": null,
      "outputs": [
        {
          "output_type": "stream",
          "name": "stdout",
          "text": [
            "/bin/bash: line 1: from: command not found\n",
            "/bin/bash: -c: line 1: syntax error near unexpected token `('\n",
            "/bin/bash: -c: line 1: `spark = SparkSession.builder      .master('local[*]')      .appName(\"Iniciando com Spark\")      .config('spark.ui.port', '4050')      .getOrCreate()'\n"
          ]
        }
      ]
    },
    {
      "cell_type": "code",
      "source": [
        "!wget -q https://bin.equinox.io/c/4VmDzA7iaHb/ngrok-stable-linux-amd64.zip\n",
        "!unzip ngrok-stable-linux-amd64.zip\n"
      ],
      "metadata": {
        "id": "iOeU8zNg-dRm",
        "outputId": "c31d63bf-544e-4481-b531-9ed043bb4132",
        "colab": {
          "base_uri": "https://localhost:8080/"
        }
      },
      "execution_count": null,
      "outputs": [
        {
          "output_type": "stream",
          "name": "stdout",
          "text": [
            "Archive:  ngrok-stable-linux-amd64.zip\n",
            "  inflating: ngrok                   \n"
          ]
        }
      ]
    },
    {
      "cell_type": "code",
      "source": [
        "!pip install pyngrok\n",
        "from pyngrok import ngrok"
      ],
      "metadata": {
        "id": "f9zis8r9-v0z",
        "outputId": "78ce9414-1c97-417d-ed7c-2a4f0fe6c48d",
        "colab": {
          "base_uri": "https://localhost:8080/"
        }
      },
      "execution_count": null,
      "outputs": [
        {
          "output_type": "stream",
          "name": "stdout",
          "text": [
            "Collecting pyngrok\n",
            "  Downloading pyngrok-7.1.6-py3-none-any.whl (22 kB)\n",
            "Requirement already satisfied: PyYAML>=5.1 in /usr/local/lib/python3.10/dist-packages (from pyngrok) (6.0.1)\n",
            "Installing collected packages: pyngrok\n",
            "Successfully installed pyngrok-7.1.6\n"
          ]
        }
      ]
    },
    {
      "cell_type": "code",
      "source": [
        "!ngrok authtoken \"2iU4okZxuzJLCQMOE5sUdlAK29x_2JdshyZxxF2DDWoXyoEke\""
      ],
      "metadata": {
        "id": "nlc5yinb-xPO",
        "outputId": "ec83af1e-1a4e-4b3f-b1ba-e735d368d571",
        "colab": {
          "base_uri": "https://localhost:8080/"
        }
      },
      "execution_count": null,
      "outputs": [
        {
          "output_type": "stream",
          "name": "stdout",
          "text": [
            "Authtoken saved to configuration file: /root/.config/ngrok/ngrok.yml\n"
          ]
        }
      ]
    },
    {
      "cell_type": "code",
      "source": [
        "ngrok.connect('4050')"
      ],
      "metadata": {
        "id": "hvRImonE-ygB",
        "outputId": "c8695b2f-6988-4a52-ab56-9882be265021",
        "colab": {
          "base_uri": "https://localhost:8080/"
        }
      },
      "execution_count": null,
      "outputs": [
        {
          "output_type": "execute_result",
          "data": {
            "text/plain": [
              "<NgrokTunnel: \"https://68f0-34-168-29-191.ngrok-free.app\" -> \"http://localhost:4050\">"
            ]
          },
          "metadata": {},
          "execution_count": 24
        }
      ]
    },
    {
      "cell_type": "code",
      "source": [
        "!curl -s http://localhost:4040/api/tunnels"
      ],
      "metadata": {
        "id": "T2ELbUym-45_",
        "outputId": "1fb41bc0-1280-49ae-9743-3aa43f2c9420",
        "colab": {
          "base_uri": "https://localhost:8080/"
        }
      },
      "execution_count": null,
      "outputs": [
        {
          "output_type": "stream",
          "name": "stdout",
          "text": [
            "{\"tunnels\":[{\"name\":\"http-4050-66971c2f-f620-4264-9a18-7e2e3fb65aa5\",\"ID\":\"afebfcc8bdb9eb6795d8c1e28310790e\",\"uri\":\"/api/tunnels/http-4050-66971c2f-f620-4264-9a18-7e2e3fb65aa5\",\"public_url\":\"https://68f0-34-168-29-191.ngrok-free.app\",\"proto\":\"https\",\"config\":{\"addr\":\"http://localhost:4050\",\"inspect\":true},\"metrics\":{\"conns\":{\"count\":0,\"gauge\":0,\"rate1\":0,\"rate5\":0,\"rate15\":0,\"p50\":0,\"p90\":0,\"p95\":0,\"p99\":0},\"http\":{\"count\":0,\"rate1\":0,\"rate5\":0,\"rate15\":0,\"p50\":0,\"p90\":0,\"p95\":0,\"p99\":0}}}],\"uri\":\"/api/tunnels\"}\n"
          ]
        }
      ]
    },
    {
      "cell_type": "markdown",
      "source": [
        "Montando nosso drive"
      ],
      "metadata": {
        "id": "iAdP8dCDE8v1"
      }
    },
    {
      "cell_type": "code",
      "source": [
        "from google.colab import drive\n",
        "drive.mount('/content/drive')"
      ],
      "metadata": {
        "id": "3LjGXzNt_B2x",
        "outputId": "256dc028-9e74-406e-d730-2f89c5f933ba",
        "colab": {
          "base_uri": "https://localhost:8080/"
        }
      },
      "execution_count": null,
      "outputs": [
        {
          "output_type": "stream",
          "name": "stdout",
          "text": [
            "Drive already mounted at /content/drive; to attempt to forcibly remount, call drive.mount(\"/content/drive\", force_remount=True).\n"
          ]
        }
      ]
    },
    {
      "cell_type": "markdown",
      "source": [
        "Carregando os dados"
      ],
      "metadata": {
        "id": "xq-ktFbt_Q_g"
      }
    },
    {
      "cell_type": "code",
      "source": [
        "import zipfile"
      ],
      "metadata": {
        "id": "c9FLD8SF_P5C"
      },
      "execution_count": null,
      "outputs": []
    },
    {
      "cell_type": "code",
      "source": [
        "\n",
        "zipfile.ZipFile('/content/drive/MyDrive/curso-spark/MegaSena/base_mega_sena.zip','r').extractall('/content/drive/MyDrive/curso-spark/MegaSena/')"
      ],
      "metadata": {
        "id": "J9HXLTbL_SZ2"
      },
      "execution_count": null,
      "outputs": []
    },
    {
      "cell_type": "code",
      "source": [
        "import pandas as pd\n",
        "\n",
        "# Caminho do arquivo CSV extraído (substitua pelo nome correto do arquivo)\n",
        "extracted_file_path = '/content/drive/MyDrive/curso-spark/MegaSena/base_mega_sena.csv'\n",
        "\n",
        "# Carrega os dados do arquivo CSV usando Pandas\n",
        "data = pd.read_csv(extracted_file_path)\n",
        "\n",
        "# Mostrar os primeiros registros\n",
        "print(data.head())"
      ],
      "metadata": {
        "id": "v3K6L1WkCRJQ",
        "outputId": "56b47f81-d9c9-4dad-a4de-5b0daf5e54d9",
        "colab": {
          "base_uri": "https://localhost:8080/"
        }
      },
      "execution_count": null,
      "outputs": [
        {
          "output_type": "stream",
          "name": "stdout",
          "text": [
            "   concurso        data  ordem  bola\n",
            "0         1  1996-03-11      1    41\n",
            "1         1  1996-03-11      2     5\n",
            "2         1  1996-03-11      3     4\n",
            "3         1  1996-03-11      4    52\n",
            "4         1  1996-03-11      5    30\n"
          ]
        }
      ]
    }
  ]
}