{
  "nbformat": 4,
  "nbformat_minor": 0,
  "metadata": {
    "colab": {
      "provenance": [],
      "toc_visible": true,
      "mount_file_id": "https://github.com/luisfeliphe66/Sorteios_mega_sena/blob/main/Sorteios_mega_sena.ipynb",
      "authorship_tag": "ABX9TyNlOEO3bs/poWN7qY+u/+wh",
      "include_colab_link": true
    },
    "kernelspec": {
      "name": "python3",
      "display_name": "Python 3"
    },
    "language_info": {
      "name": "python"
    }
  },
  "cells": [
    {
      "cell_type": "markdown",
      "metadata": {
        "id": "view-in-github",
        "colab_type": "text"
      },
      "source": [
        "<a href=\"https://colab.research.google.com/github/luisfeliphe66/Sorteios_mega_sena/blob/main/Sorteios_mega_sena.ipynb\" target=\"_parent\"><img src=\"https://colab.research.google.com/assets/colab-badge.svg\" alt=\"Open In Colab\"/></a>"
      ]
    },
    {
      "cell_type": "markdown",
      "source": [
        "# **PROJETO MEGA SENA**"
      ],
      "metadata": {
        "id": "wnroYPmUFlmu"
      }
    },
    {
      "cell_type": "markdown",
      "source": [
        "***Spark***"
      ],
      "metadata": {
        "id": "jA_Kj3ZP5zB0"
      }
    },
    {
      "cell_type": "code",
      "source": [
        "!apt-get update -qq\n",
        "!apt-get install openjdk-8-jdk-headless -qq > /dev/null\n",
        "!wget -q https://archive.apache.org/dist/spark/spark-3.1.2/spark-3.1.2-bin-hadoop2.7.tgz\n",
        "!tar xf spark-3.1.2-bin-hadoop2.7.tgz\n",
        "!pip install -q findspark"
      ],
      "metadata": {
        "id": "R_tGu7Bd5kij"
      },
      "execution_count": 1,
      "outputs": []
    },
    {
      "cell_type": "code",
      "source": [
        "import os\n",
        "os.environ[\"JAVA_HOME\"] = \"/usr/lib/jvm/java-8-openjdk-amd64\"\n",
        "os.environ[\"SPARK_HOME\"] = \"/content/spark-3.1.2-bin-hadoop2.7\""
      ],
      "metadata": {
        "id": "AGhDj6o85nF9"
      },
      "execution_count": 2,
      "outputs": []
    },
    {
      "cell_type": "code",
      "source": [
        "!pip install -q findspark"
      ],
      "metadata": {
        "id": "AL3jX6KWvBZl"
      },
      "execution_count": 3,
      "outputs": []
    },
    {
      "cell_type": "code",
      "source": [
        "import findspark\n",
        "!findspark.init();\n"
      ],
      "metadata": {
        "id": "9sX-EX5794Yh",
        "outputId": "3f275faf-eff8-4a89-9a48-fb272908258b",
        "colab": {
          "base_uri": "https://localhost:8080/"
        }
      },
      "execution_count": 4,
      "outputs": [
        {
          "output_type": "stream",
          "name": "stdout",
          "text": [
            "/bin/bash: -c: line 1: syntax error near unexpected token `;'\n",
            "/bin/bash: -c: line 1: `findspark.init();'\n"
          ]
        }
      ]
    },
    {
      "cell_type": "markdown",
      "source": [
        "***Acessando o Spark UI (Google Colab)***"
      ],
      "metadata": {
        "id": "yrDQx_cn-Ymq"
      }
    },
    {
      "cell_type": "code",
      "source": [
        "!from pyspark.sql import SparkSession\n",
        "\n",
        "!spark = SparkSession.builder \\\n",
        "    .master('local[*]') \\\n",
        "    .appName(\"Iniciando com Spark\") \\\n",
        "    .config('spark.ui.port', '4050') \\\n",
        "    .getOrCreate()"
      ],
      "metadata": {
        "id": "taDsCshN-Z7E",
        "outputId": "d4705175-18ed-4722-e950-3d8e5412659f",
        "colab": {
          "base_uri": "https://localhost:8080/"
        }
      },
      "execution_count": 5,
      "outputs": [
        {
          "output_type": "stream",
          "name": "stdout",
          "text": [
            "/bin/bash: line 1: from: command not found\n",
            "/bin/bash: -c: line 1: syntax error near unexpected token `('\n",
            "/bin/bash: -c: line 1: `spark = SparkSession.builder      .master('local[*]')      .appName(\"Iniciando com Spark\")      .config('spark.ui.port', '4050')      .getOrCreate()'\n"
          ]
        }
      ]
    },
    {
      "cell_type": "code",
      "source": [
        "!wget -q https://bin.equinox.io/c/4VmDzA7iaHb/ngrok-stable-linux-amd64.zip\n",
        "!unzip ngrok-stable-linux-amd64.zip\n"
      ],
      "metadata": {
        "id": "iOeU8zNg-dRm",
        "outputId": "5578298b-7e97-4b6f-ab10-88428efa7fac",
        "colab": {
          "base_uri": "https://localhost:8080/"
        }
      },
      "execution_count": 6,
      "outputs": [
        {
          "output_type": "stream",
          "name": "stdout",
          "text": [
            "Archive:  ngrok-stable-linux-amd64.zip\n",
            "  inflating: ngrok                   \n"
          ]
        }
      ]
    },
    {
      "cell_type": "code",
      "source": [
        "!pip install pyngrok\n",
        "!from pyngrok import ngrok"
      ],
      "metadata": {
        "id": "f9zis8r9-v0z",
        "outputId": "b4b52e3f-5cda-4ea2-9279-f5e07460a91e",
        "colab": {
          "base_uri": "https://localhost:8080/"
        }
      },
      "execution_count": 7,
      "outputs": [
        {
          "output_type": "stream",
          "name": "stdout",
          "text": [
            "Collecting pyngrok\n",
            "  Downloading pyngrok-7.1.6-py3-none-any.whl (22 kB)\n",
            "Requirement already satisfied: PyYAML>=5.1 in /usr/local/lib/python3.10/dist-packages (from pyngrok) (6.0.1)\n",
            "Installing collected packages: pyngrok\n",
            "Successfully installed pyngrok-7.1.6\n",
            "/bin/bash: line 1: from: command not found\n"
          ]
        }
      ]
    },
    {
      "cell_type": "code",
      "source": [
        "!ngrok authtoken \"2iU4okZxuzJLCQMOE5sUdlAK29x_2JdshyZxxF2DDWoXyoEke\""
      ],
      "metadata": {
        "id": "nlc5yinb-xPO",
        "outputId": "a2eb9bf2-6008-4cff-df95-46403bbc2ccc",
        "colab": {
          "base_uri": "https://localhost:8080/"
        }
      },
      "execution_count": 8,
      "outputs": [
        {
          "output_type": "stream",
          "name": "stdout",
          "text": [
            "Authtoken saved to configuration file: /root/.config/ngrok/ngrok.yml\n"
          ]
        }
      ]
    },
    {
      "cell_type": "code",
      "source": [
        "!ngrok.connect('4050')"
      ],
      "metadata": {
        "id": "hvRImonE-ygB",
        "outputId": "0aff59b6-cafc-4124-b405-8c8631983e2a",
        "colab": {
          "base_uri": "https://localhost:8080/"
        }
      },
      "execution_count": 9,
      "outputs": [
        {
          "output_type": "stream",
          "name": "stdout",
          "text": [
            "/bin/bash: -c: line 1: syntax error near unexpected token `'4050''\n",
            "/bin/bash: -c: line 1: `ngrok.connect('4050')'\n"
          ]
        }
      ]
    },
    {
      "cell_type": "code",
      "source": [
        "!curl -s http://localhost:4040/api/tunnels"
      ],
      "metadata": {
        "id": "T2ELbUym-45_"
      },
      "execution_count": 10,
      "outputs": []
    },
    {
      "cell_type": "markdown",
      "source": [
        "***Montando drive***"
      ],
      "metadata": {
        "id": "iAdP8dCDE8v1"
      }
    },
    {
      "cell_type": "code",
      "source": [
        "from google.colab import drive\n",
        "drive.mount('/content/drive')"
      ],
      "metadata": {
        "id": "3LjGXzNt_B2x",
        "outputId": "2e87a450-cbaa-4fb5-a5ad-73e8ece8d894",
        "colab": {
          "base_uri": "https://localhost:8080/"
        }
      },
      "execution_count": 11,
      "outputs": [
        {
          "output_type": "stream",
          "name": "stdout",
          "text": [
            "Drive already mounted at /content/drive; to attempt to forcibly remount, call drive.mount(\"/content/drive\", force_remount=True).\n"
          ]
        }
      ]
    },
    {
      "cell_type": "markdown",
      "source": [
        "***Carregando os dados***"
      ],
      "metadata": {
        "id": "xq-ktFbt_Q_g"
      }
    },
    {
      "cell_type": "code",
      "source": [
        "import zipfile\n",
        "\n",
        "# Caminho para o arquivo ZIP que você deseja extrair\n",
        "caminho_arquivo_zip = '/content/drive/MyDrive/curso-spark/MegaSena/base_mega_sena.zip'\n",
        "\n",
        "# Diretório de destino onde deseja extrair os arquivos\n",
        "diretorio_destino = '/content/drive/MyDrive/curso-spark/MegaSena/'\n",
        "\n",
        "# Extrair os arquivos do arquivo ZIP para o diretório de destino\n",
        "with zipfile.ZipFile(caminho_arquivo_zip, 'r') as zip_ref:\n",
        "    zip_ref.extractall(diretorio_destino)"
      ],
      "metadata": {
        "id": "J9HXLTbL_SZ2"
      },
      "execution_count": 12,
      "outputs": []
    },
    {
      "cell_type": "code",
      "source": [
        "import pandas as pd\n",
        "import zipfile\n",
        "import os\n",
        "import matplotlib.pyplot as plt\n",
        "\n",
        "def delete_coluna_ordem(caminho_arquivo_zip, diretorio_destino):\n",
        "    # Extrair os arquivos do arquivo ZIP para o diretório de destino\n",
        "    with zipfile.ZipFile(caminho_arquivo_zip, 'r') as zip_ref:\n",
        "        zip_ref.extractall(diretorio_destino)\n",
        "\n",
        "    # Encontrar o nome do arquivo extraído\n",
        "    nome_arquivo_extraido = None\n",
        "    for nome in zip_ref.namelist():\n",
        "        if nome.endswith('.csv'):\n",
        "            nome_arquivo_extraido = os.path.join(diretorio_destino, nome)\n",
        "            break\n",
        "\n",
        "    if nome_arquivo_extraido:\n",
        "        # Carregar o DataFrame a partir do arquivo CSV extraído\n",
        "        df = pd.read_csv(nome_arquivo_extraido)\n",
        "\n",
        "        # Deletar a coluna 'ordem' se existir\n",
        "        if 'ordem' in df.columns:\n",
        "            df = df.drop(columns=['ordem'])\n",
        "\n",
        "        # Mostrar as colunas presentes no DataFrame\n",
        "        # print(\"Colunas do DataFrame:\")\n",
        "        # print(df.columns)\n",
        "\n",
        "\n",
        "        # Contar a frequência dos números de bola\n",
        "        contagem_bolas = df['bola'].value_counts()\n",
        "        # print(df.columns)\n",
        "        # df = pd.DataFrame({\"bola\": contagem_bolas, \"resultado\": resultado_total})\n",
        "\n",
        "        #Plotar o gráfico de barras com as contagens\n",
        "        contagem_bolas.sort_index().plot(kind='bar', rot=0, figsize=(12, 6))\n",
        "        plt.title('Contagem de ocorrências dos números de bola')\n",
        "        plt.xlabel('Número da bola')\n",
        "        plt.ylabel('Contagem de ocorrências')\n",
        "        plt.show()\n",
        "\n",
        "\n",
        "        ultimos_numeros = contagem_bolas.head(6)\n",
        "        ultimos_numeros.plot(kind='bar', rot=0, figsize=(12, 6))\n",
        "        plt.title('Últimos mais sorteados')\n",
        "        plt.xlabel('Número da bola')\n",
        "        plt.ylabel('Contagem de ocorrências')\n",
        "        plt.show()\n",
        "\n",
        "        print()\n",
        "\n",
        "        #Ordena bolas que mais sairão\n",
        "        sorted_group = contagem_bolas.sort_values(ascending=False)\n",
        "        bola_1 = sorted_group[0:6].index[0]\n",
        "        bola_2 = sorted_group[0:6].index[1]\n",
        "        bola_3 = sorted_group[0:6].index[2]\n",
        "        bola_4 = sorted_group[0:6].index[3]\n",
        "        bola_5 = sorted_group[0:6].index[4]\n",
        "        bola_6 = sorted_group[0:6].index[5]\n",
        "\n",
        "        mensagem = f\"Seu numero da sorte é : {bola_1} - {bola_2} - {bola_3} - {bola_4} - {bola_5} - {bola_6}\"\n",
        "        print(mensagem)\n",
        "\n",
        "    else:\n",
        "        print('Não foi possível encontrar um arquivo CSV dentro do ZIP.')\n",
        "\n",
        "# Exemplo de uso da função\n",
        "caminho_arquivo_zip = '/content/drive/MyDrive/curso-spark/MegaSena/base_mega_sena.zip'\n",
        "diretorio_destino = '/content/drive/MyDrive/curso-spark/MegaSena/'\n",
        "\n",
        "# Chamar a função para deletar a coluna 'ordem' e mostrar a contagem de ocorrências dos números de bola\n",
        "delete_coluna_ordem(caminho_arquivo_zip, diretorio_destino)\n",
        "\n",
        "\n",
        "\n"
      ],
      "metadata": {
        "id": "v3K6L1WkCRJQ",
        "outputId": "b5c8c497-5866-4cab-91be-881c3d98d79d",
        "colab": {
          "base_uri": "https://localhost:8080/",
          "height": 1000
        }
      },
      "execution_count": 64,
      "outputs": [
        {
          "output_type": "display_data",
          "data": {
            "text/plain": [
              "<Figure size 1200x600 with 1 Axes>"
            ],
            "image/png": "[encoded data removed]"
          },
          "metadata": {}
        },
        {
          "output_type": "display_data",
          "data": {
            "text/plain": [
              "<Figure size 1200x600 with 1 Axes>"
            ],
            "image/png": "[encoded data removed]"
          },
          "metadata": {}
        },
        {
          "output_type": "stream",
          "name": "stdout",
          "text": [
            "\n",
            "Seu numero da sorte é : 53 - 10 - 5 - 37 - 33 - 42\n"
          ]
        }
      ]
    }
  ]
}